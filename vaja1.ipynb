{
 "metadata": {
  "language_info": {
   "codemirror_mode": {
    "name": "ipython",
    "version": 3
   },
   "file_extension": ".py",
   "mimetype": "text/x-python",
   "name": "python",
   "nbconvert_exporter": "python",
   "pygments_lexer": "ipython3",
   "version": "3.8.3-final"
  },
  "orig_nbformat": 2,
  "kernelspec": {
   "name": "python3",
   "display_name": "Python 3",
   "language": "python"
  }
 },
 "nbformat": 4,
 "nbformat_minor": 2,
 "cells": [
  {
   "source": [
    "## Preverite svoje znanje\n",
    "Ko preverjanje končate, oddajte ta notebook v spletno učilnico."
   ],
   "cell_type": "markdown",
   "metadata": {}
  },
  {
   "source": [
    "#### Napišite kratek opis spodaj naštetih podatkovnih tipov.\n",
    "Dvokliknite tukaj, da boste lahko urejali to celico.\n",
    "\n",
    "Celo število:\n",
    "\n",
    "Niz znakov:\n",
    "\n",
    "Tabela:\n",
    "\n",
    "Seznam:\n",
    "\n",
    "Slovar:"
   ],
   "cell_type": "markdown",
   "metadata": {}
  },
  {
   "source": [
    "## Števila"
   ],
   "cell_type": "markdown",
   "metadata": {}
  },
  {
   "source": [
    "Napišite enačbo katere rezultat bo 89.32. V enačbi uporabite množenje, seštevanje, odštevanje, deljenje in kvadriranje. "
   ],
   "cell_type": "markdown",
   "metadata": {}
  },
  {
   "cell_type": "code",
   "execution_count": null,
   "metadata": {},
   "outputs": [],
   "source": []
  },
  {
   "source": [
    "Katerega tipa bo rezultat izraza 3 + 1.5 + 5 ?\n",
    "Najprej poskusite samo odgovoriti na vprašanje in nato preverite z uporabo funkcije type()."
   ],
   "cell_type": "markdown",
   "metadata": {}
  },
  {
   "cell_type": "code",
   "execution_count": null,
   "metadata": {},
   "outputs": [],
   "source": []
  },
  {
   "source": [
    "Napišite izraz, ki izračuna kvadrat števila 5:"
   ],
   "cell_type": "markdown",
   "metadata": {}
  },
  {
   "cell_type": "code",
   "execution_count": null,
   "metadata": {},
   "outputs": [],
   "source": [
    "# Kvadrat:"
   ]
  },
  {
   "source": [
    "Napišite izraz, ki izračuna kvadratni koren števila 64:"
   ],
   "cell_type": "markdown",
   "metadata": {}
  },
  {
   "cell_type": "code",
   "execution_count": null,
   "metadata": {},
   "outputs": [],
   "source": [
    "# Kvadratni koren:"
   ]
  },
  {
   "source": [
    "## Nizi znakov"
   ],
   "cell_type": "markdown",
   "metadata": {}
  },
  {
   "source": [
    "Za podani niz \"Živijo!\" napiši ukaz, ki bo vrnik črko j."
   ],
   "cell_type": "markdown",
   "metadata": {}
  },
  {
   "cell_type": "code",
   "execution_count": null,
   "metadata": {},
   "outputs": [],
   "source": [
    "niz = 'Živijo!'\n",
    "# Izpiši j:"
   ]
  },
  {
   "source": [
    "Obrni vrstni red znakov v nizu \"Živijo!\""
   ],
   "cell_type": "markdown",
   "metadata": {}
  },
  {
   "cell_type": "code",
   "execution_count": null,
   "metadata": {},
   "outputs": [],
   "source": [
    "niz = 'Živijo!'\n",
    "# Obratni vrstni red:"
   ]
  },
  {
   "source": [
    "Iz podanega niza \"Živijo!\" na dva načina pridobi klicaj."
   ],
   "cell_type": "markdown",
   "metadata": {}
  },
  {
   "cell_type": "code",
   "execution_count": null,
   "metadata": {},
   "outputs": [],
   "source": [
    "niz = 'Živijo!'\n",
    "# 1. način:"
   ]
  },
  {
   "cell_type": "code",
   "execution_count": null,
   "metadata": {},
   "outputs": [],
   "source": [
    "niz = 'Živijo!'\n",
    "# 2. način:"
   ]
  },
  {
   "source": [
    "## Tabele"
   ],
   "cell_type": "markdown",
   "metadata": {}
  },
  {
   "source": [
    "# Ustvari tabelo [0,0,0] na dva različna načina:\n",
    "# 1. način:"
   ],
   "cell_type": "code",
   "metadata": {},
   "execution_count": null,
   "outputs": []
  },
  {
   "cell_type": "code",
   "execution_count": null,
   "metadata": {},
   "outputs": [],
   "source": [
    "# 2. način:"
   ]
  },
  {
   "cell_type": "code",
   "execution_count": null,
   "metadata": {},
   "outputs": [],
   "source": [
    "# Sortiraj podano tabelo: tabela = [7,3,4,6,9]\n"
   ]
  },
  {
   "source": [
    "## Slovarji"
   ],
   "cell_type": "markdown",
   "metadata": {}
  },
  {
   "cell_type": "code",
   "execution_count": 2,
   "metadata": {},
   "outputs": [],
   "source": [
    "# Iz podanega slovarja pridobi naslov knjige s ključem:\n",
    "knjiga = {'Zaplotnik':'Pot'}"
   ]
  },
  {
   "cell_type": "code",
   "execution_count": null,
   "metadata": {},
   "outputs": [],
   "source": [
    "# z indeksom:\n",
    "knjiga = {'Zaplotnik': {1:'Pot'}}"
   ]
  },
  {
   "cell_type": "code",
   "execution_count": null,
   "metadata": {},
   "outputs": [],
   "source": [
    "# in na še malo bolj kompliciran način\n",
    "knjiga = {'Zaplotnik': {'knjige' : {1:'Pot'}}}"
   ]
  },
  {
   "source": [
    "## Seznami"
   ],
   "cell_type": "markdown",
   "metadata": {}
  },
  {
   "source": [
    "Katera je glavna razlika med seznamom in tabelo?\n"
   ],
   "cell_type": "markdown",
   "metadata": {}
  },
  {
   "source": [
    "Kako ustvarimo seznam? Napišite primer."
   ],
   "cell_type": "markdown",
   "metadata": {}
  }
 ]
}