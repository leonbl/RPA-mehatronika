{
 "metadata": {
  "language_info": {
   "codemirror_mode": {
    "name": "ipython",
    "version": 3
   },
   "file_extension": ".py",
   "mimetype": "text/x-python",
   "name": "python",
   "nbconvert_exporter": "python",
   "pygments_lexer": "ipython3",
   "version": "3.8.3-final"
  },
  "orig_nbformat": 2,
  "kernelspec": {
   "name": "python3",
   "display_name": "Python 3",
   "language": "python"
  }
 },
 "nbformat": 4,
 "nbformat_minor": 2,
 "cells": [
  {
   "source": [
    "# Zanka while"
   ],
   "cell_type": "markdown",
   "metadata": {}
  },
  {
   "cell_type": "code",
   "execution_count": 2,
   "metadata": {},
   "outputs": [
    {
     "output_type": "stream",
     "name": "stdout",
     "text": [
      "10\n9\n8\n7\n6\n5\n4\n3\n2\n1\nnadaljevanje programa..\n"
     ]
    }
   ],
   "source": [
    "# while zanko uporabljamo takrat, ko imamo nek pogoj, na katerem temelji izvanje zanke\n",
    "stevilo = 10\n",
    "while stevilo > 0:\n",
    "    print(stevilo)\n",
    "    stevilo -= 1      # stevilo = stevilo - 1\n",
    "print(\"nadaljevanje programa..\")"
   ]
  },
  {
   "source": [
    "V anki while lahko uporabimo tudi ukaza break in continue. Raba je enaka kot pri zanki for.\n"
   ],
   "cell_type": "markdown",
   "metadata": {}
  },
  {
   "cell_type": "code",
   "execution_count": 4,
   "metadata": {},
   "outputs": [
    {
     "output_type": "stream",
     "name": "stdout",
     "text": [
      "2\n",
      "3\n",
      "4\n",
      "5\n",
      "konec programa\n"
     ]
    }
   ],
   "source": [
    "# ... program naj se zaključi, ko uporabnik vnese besedo \"konec\".\n",
    "konec = 'konec'\n",
    "test = ''\n",
    "n = 1\n",
    "while test != konec:\n",
    "    n += 1\n",
    "    print(n)\n",
    "    # ....\n",
    "    # ....\n",
    "    test = input(\"Želite končati program\")\n",
    "print(\"konec programa\")"
   ]
  },
  {
   "cell_type": "code",
   "execution_count": 8,
   "metadata": {
    "tags": []
   },
   "outputs": [
    {
     "output_type": "stream",
     "name": "stdout",
     "text": [
      "0\n",
      "0\n",
      "0\n"
     ]
    }
   ],
   "source": [
    "# Napaka programerja (zanka, ki se nikoli ne konča):\n",
    "test = True\n",
    "while test:\n",
    "    n = 0\n",
    "    print(n)\n",
    "    n += 1"
   ]
  },
  {
   "cell_type": "code",
   "execution_count": 9,
   "metadata": {},
   "outputs": [
    {
     "output_type": "stream",
     "name": "stdout",
     "text": [
      "1\n2\n3\n4\n5\n6\n7\n8\n9\n10\n11\n12\n13\n14\n15\n16\n17\n18\n19\n20\n"
     ]
    }
   ],
   "source": [
    "# Pogosto je isti problem mogoče rešiti s pomočjo for ali while zanke:\n",
    "# Izpiši prvih 20 števil\n",
    "\n",
    "# Rešitev s for zanko\n",
    "for n in range(1,21):\n",
    "    print(n)"
   ]
  },
  {
   "cell_type": "code",
   "execution_count": 10,
   "metadata": {},
   "outputs": [
    {
     "output_type": "stream",
     "name": "stdout",
     "text": [
      "1\n2\n3\n4\n5\n6\n7\n8\n9\n10\n11\n12\n13\n14\n15\n16\n17\n18\n19\n20\n"
     ]
    }
   ],
   "source": [
    "# Rešitev z while zanko\n",
    "n = 1\n",
    "while n < 21:\n",
    "    print(n)\n",
    "    n += 1"
   ]
  },
  {
   "source": [
    "# Delo s tabelami"
   ],
   "cell_type": "markdown",
   "metadata": {}
  },
  {
   "cell_type": "code",
   "execution_count": 19,
   "metadata": {},
   "outputs": [
    {
     "output_type": "stream",
     "name": "stdout",
     "text": [
      "8\n"
     ]
    }
   ],
   "source": [
    "# določi dolžino tabele (število elementov v tabeli)\n",
    "stevila = [1, 2, 4, 5, 6, 1, 1, 1]\n",
    "dolzina = len(stevila)\n",
    "print(dolzina)"
   ]
  },
  {
   "cell_type": "code",
   "execution_count": 12,
   "metadata": {},
   "outputs": [
    {
     "output_type": "stream",
     "name": "stdout",
     "text": [
      "[1, 2, 4, 5, 6, 7]\n"
     ]
    }
   ],
   "source": [
    "# Dodajanje elementov v tabelo (na konec tabele)\n",
    "stevila.append(7)\n",
    "print(stevila)"
   ]
  },
  {
   "cell_type": "code",
   "execution_count": 13,
   "metadata": {},
   "outputs": [
    {
     "output_type": "stream",
     "name": "stdout",
     "text": [
      "[1, 1000, 2, 4, 5, 6, 7]\n"
     ]
    }
   ],
   "source": [
    "# Dodajanje elementov v tabelo (na določeno mesto v tabelo)\n",
    "stevila.insert(1, 1000)\n",
    "print(stevila)"
   ]
  },
  {
   "cell_type": "code",
   "execution_count": 17,
   "metadata": {},
   "outputs": [
    {
     "output_type": "stream",
     "name": "stdout",
     "text": [
      "[1, 1000, 2, 4]\n"
     ]
    }
   ],
   "source": [
    "# Odstranjevanje elementov s konca tabele:\n",
    "stevila.pop()\n",
    "print(stevila)"
   ]
  },
  {
   "cell_type": "code",
   "execution_count": 20,
   "metadata": {},
   "outputs": [
    {
     "output_type": "stream",
     "name": "stdout",
     "text": [
      "[2, 4, 5, 6, 1, 1, 1]\n"
     ]
    }
   ],
   "source": [
    "# Odstranjevanje elemento znotraj tabele:\n",
    "stevila.remove(1)\n",
    "print(stevila)"
   ]
  },
  {
   "cell_type": "code",
   "execution_count": 22,
   "metadata": {},
   "outputs": [
    {
     "output_type": "stream",
     "name": "stdout",
     "text": [
      "1\n6\n19\n"
     ]
    }
   ],
   "source": [
    "# Pri tabaleh s števili lahko uporabljamo tudi naslednje funkcije:\n",
    "print(min(stevila))\n",
    "print(max(stevila))\n",
    "print(sum(stevila))"
   ]
  },
  {
   "cell_type": "code",
   "execution_count": 23,
   "metadata": {},
   "outputs": [
    {
     "output_type": "stream",
     "name": "stdout",
     "text": [
      "1\n"
     ]
    }
   ],
   "source": [
    "# Določi najmanjše število v tabeli stevila s pomočjo zanke for\n",
    "min = 1000\n",
    "for n in stevila:\n",
    "    if n < min:\n",
    "        min = n\n",
    "print(n)"
   ]
  },
  {
   "cell_type": "code",
   "execution_count": 25,
   "metadata": {},
   "outputs": [
    {
     "output_type": "stream",
     "name": "stdout",
     "text": [
      "[1, 1, 2, 4, 5, 6]\n[2, 4, 5, 6, 1, 1]\n"
     ]
    }
   ],
   "source": [
    "# Urejanje tabele po velikosti \n",
    "# 1. naredi kopijo:\n",
    "sortirana_stevila = sorted(stevila)\n",
    "print(sortirana_stevila)\n",
    "print(stevila)"
   ]
  },
  {
   "cell_type": "code",
   "execution_count": 26,
   "metadata": {},
   "outputs": [
    {
     "output_type": "stream",
     "name": "stdout",
     "text": [
      "[1, 1, 2, 4, 5, 6]\n"
     ]
    }
   ],
   "source": [
    "# 2. naredi to na originalni tabeli\n",
    "stevila.sort()\n",
    "print(stevila)"
   ]
  },
  {
   "source": [
    "## Pogoji in tabele\n"
   ],
   "cell_type": "markdown",
   "metadata": {}
  },
  {
   "cell_type": "code",
   "execution_count": 29,
   "metadata": {},
   "outputs": [
    {
     "output_type": "stream",
     "name": "stdout",
     "text": [
      "Pepa se nahaja v tabeli\n"
     ]
    }
   ],
   "source": [
    "imena = ['Pepi', 'Micka', 'Pepa']\n",
    "test = 'Pepa'\n",
    "if test in imena:\n",
    "    print('{} se nahaja v tabeli'.format(test))\n",
    "else:\n",
    "    print('{} se ne nahaja v tabeli'.format(test))"
   ]
  },
  {
   "cell_type": "code",
   "execution_count": 30,
   "metadata": {},
   "outputs": [
    {
     "output_type": "stream",
     "name": "stdout",
     "text": [
      "Pepi\nMicka\nPepa\n"
     ]
    }
   ],
   "source": [
    "for nekaj in imena:\n",
    "    print(nekaj)"
   ]
  },
  {
   "cell_type": "code",
   "execution_count": 31,
   "metadata": {},
   "outputs": [
    {
     "output_type": "stream",
     "name": "stdout",
     "text": [
      "Prazna.\n"
     ]
    }
   ],
   "source": [
    "# Kako pogledamo če je tabela prazna (nima nobenega elementa)?\n",
    "abc = []\n",
    "if not abc:\n",
    "    print('Prazna.')"
   ]
  },
  {
   "cell_type": "code",
   "execution_count": 32,
   "metadata": {},
   "outputs": [
    {
     "output_type": "stream",
     "name": "stdout",
     "text": [
      "1\n"
     ]
    }
   ],
   "source": [
    "# Kako preštejemo število nekega elementa v tabeli?\n",
    "print(imena.count('Micka'))"
   ]
  },
  {
   "cell_type": "code",
   "execution_count": null,
   "metadata": {},
   "outputs": [],
   "source": [
    "## Vaje"
   ]
  },
  {
   "cell_type": "code",
   "execution_count": 42,
   "metadata": {},
   "outputs": [
    {
     "output_type": "stream",
     "name": "stdout",
     "text": [
      "Konec: ['rdeca', 'roza', 'modra', 'bela']\n"
     ]
    }
   ],
   "source": [
    "# Primer: Odstrani vse večkratne vnose iz tabele barve\n",
    "barve = ['bela','rdeca','bela','roza','rdeca','roza','modra','bela']\n",
    "for b in barve:\n",
    "    for b in barve:\n",
    "        #print('{}'.format(barve))\n",
    "        #print('>' + b)\n",
    "        while barve.count(b) > 1:\n",
    "            #print('Odstranil: ' + b)\n",
    "            barve.remove(b)\n",
    "print('Konec: {}'.format(barve))"
   ]
  }
 ]
}