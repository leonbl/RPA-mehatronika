{
 "metadata": {
  "language_info": {
   "codemirror_mode": {
    "name": "ipython",
    "version": 3
   },
   "file_extension": ".py",
   "mimetype": "text/x-python",
   "name": "python",
   "nbconvert_exporter": "python",
   "pygments_lexer": "ipython3",
   "version": "3.8.3-final"
  },
  "orig_nbformat": 2,
  "kernelspec": {
   "name": "python3",
   "display_name": "Python 3",
   "language": "python"
  }
 },
 "nbformat": 4,
 "nbformat_minor": 2,
 "cells": [
  {
   "source": [
    "# Podatkovne zbirke\n",
    "## Slovarji\n"
   ],
   "cell_type": "markdown",
   "metadata": {}
  },
  {
   "cell_type": "code",
   "execution_count": 2,
   "metadata": {},
   "outputs": [
    {
     "output_type": "stream",
     "name": "stdout",
     "text": [
      "28\nMicka\n"
     ]
    }
   ],
   "source": [
    "# deklaracija slovarja\n",
    "knjige = {} # prazen slovar\n",
    "oseba = {'ime':'Pepi'} # slovar z enim elementom\n",
    "                       # ime je ključ\n",
    "                       # Pepi je vrednost, ki pripada ključu\n",
    "stranka = {'ime':'Micka', 'starost':'28'} \n",
    "\n",
    "# dostop do elemnta je vedno s pomočjo ključa:\n",
    "print(stranka['starost'])\n",
    "\n",
    "# alternativen dostop do podka s pomočjo ključa\n",
    "print(stranka.get('ime'))"
   ]
  },
  {
   "cell_type": "code",
   "execution_count": 5,
   "metadata": {},
   "outputs": [
    {
     "output_type": "stream",
     "name": "stdout",
     "text": [
      "zelena\n"
     ]
    }
   ],
   "source": [
    "mavrica = {'barve':['modra', 'rdeča', 'rumena', 'zelena'], 'velikost':'zelo velika'}\n",
    "# dostop do vrednosti v tabeli:\n",
    "print(mavrica['barve'][3])"
   ]
  },
  {
   "cell_type": "code",
   "execution_count": 12,
   "metadata": {},
   "outputs": [
    {
     "output_type": "stream",
     "name": "stdout",
     "text": [
      "Nova Gorica\n2\nKlub Nova Gorica je v letu 1996 zmagal 2\n"
     ]
    }
   ],
   "source": [
    "# primer slovarja, ki vsebuje slovar\n",
    "podatki = {'klub':'Nova Gorica', 'zmage':{'1995':13,'1996':2,'1997':10}}\n",
    "# dostop do podatkov v vgnezdem slovarju:\n",
    "print(podatki['klub'])\n",
    "print(podatki['zmage']['1996'])\n",
    "print('Klub {} je v letu 1996 zmagal {}'.format(podatki['klub'],podatki['zmage']['1996'] ))"
   ]
  },
  {
   "cell_type": "code",
   "execution_count": 14,
   "metadata": {},
   "outputs": [
    {
     "output_type": "stream",
     "name": "stdout",
     "text": [
      "['testo', 'paradajz', 'sir', 'sol']\ntesto\nparadajz\nsir\nsol\n"
     ]
    }
   ],
   "source": [
    "# vaja: izpiši vse sestavine za pico iz slovarja s pomočjo zanke for:\n",
    "pizza = {'sestavine':['testo', 'paradajz', 'sir', 'sol']}\n",
    "print(pizza['sestavine'])\n",
    "for snov in pizza['sestavine']:\n",
    "    print(snov)"
   ]
  },
  {
   "cell_type": "code",
   "execution_count": 18,
   "metadata": {},
   "outputs": [
    {
     "output_type": "stream",
     "name": "stdout",
     "text": [
      "{'znamka': 'fiat'}\n{'znamka': 'fiat', 'barva': 'bela'}\n{'znamka': 'fiat', 'barva': 'bela', 'kilometri': 100000}\n"
     ]
    }
   ],
   "source": [
    "# Dodajanje elementa v tabelo\n",
    "avto = {'znamka':'fiat'} # radi bi dodali še barvo\n",
    "print(avto)\n",
    "avto['barva'] = 'bela'\n",
    "print(avto)\n",
    "avto['kilometri'] = 100000\n",
    "print(avto)"
   ]
  },
  {
   "cell_type": "code",
   "execution_count": 19,
   "metadata": {},
   "outputs": [
    {
     "output_type": "stream",
     "name": "stdout",
     "text": [
      "{'znamka': 'fiat', 'barva': 'modra', 'kilometri': 100000}\n"
     ]
    }
   ],
   "source": [
    "# Spreminjanje vrednosti v slovarju\n",
    "avto['barva'] = 'modra'\n",
    "print(avto)"
   ]
  },
  {
   "cell_type": "code",
   "execution_count": 20,
   "metadata": {},
   "outputs": [
    {
     "output_type": "stream",
     "name": "stdout",
     "text": [
      "{'znamka': 'fiat', 'kilometri': 100000}\n"
     ]
    }
   ],
   "source": [
    "# Brisanje vnosa v slovarju\n",
    "del avto['barva']\n",
    "print(avto)"
   ]
  },
  {
   "cell_type": "code",
   "execution_count": 21,
   "metadata": {},
   "outputs": [
    {
     "output_type": "stream",
     "name": "stdout",
     "text": [
      "fiat\n100000\n"
     ]
    }
   ],
   "source": [
    "# Radi bi izpisali vse vrednosti iz slovarja (ne ključev)\n",
    "for n in avto.values():\n",
    "    print(n)"
   ]
  },
  {
   "cell_type": "code",
   "execution_count": 22,
   "metadata": {},
   "outputs": [
    {
     "output_type": "stream",
     "name": "stdout",
     "text": [
      "znamka\nkilometri\n"
     ]
    }
   ],
   "source": [
    "# Radi bi izpisali vse ključe:\n",
    "for n in avto.keys():\n",
    "    print(n)"
   ]
  },
  {
   "cell_type": "code",
   "execution_count": 25,
   "metadata": {},
   "outputs": [
    {
     "output_type": "stream",
     "name": "stdout",
     "text": [
      "znamka\nfiat\nkilometri\n100000\n"
     ]
    }
   ],
   "source": [
    "# Izpis vsek ljučev in vrednosti:\n",
    "for k,v in avto.items():\n",
    "    print(k)\n",
    "    print(v)"
   ]
  },
  {
   "cell_type": "code",
   "execution_count": null,
   "metadata": {},
   "outputs": [],
   "source": [
    "# vaja: definiraj slovar, pozovi uporabnika k vnosu imena, ulice in številke. Podatke vnesi v slovar in jih nato s pomočjo zanke for izpiši\n",
    "\n"
   ]
  },
  {
   "cell_type": "code",
   "execution_count": 27,
   "metadata": {},
   "outputs": [
    {
     "output_type": "stream",
     "name": "stdout",
     "text": [
      "Pepi Kovačev\n"
     ]
    }
   ],
   "source": [
    "# kaj je narobe s spodnjim programom:\n",
    "oseba = {'ime':'Pepi Kovačev'}\n",
    "print(oseba['ime'])"
   ]
  },
  {
   "cell_type": "code",
   "execution_count": null,
   "metadata": {},
   "outputs": [],
   "source": [
    "# tabela -> list        ime = ['Pepi', 'Muca', 'Sonce']\n",
    "# slovar -> dictionary  avto = {'model':'BMW', 'letnik':1972, 'barva':'črna'}\n",
    "# seznam -> tuple       seznam = ('Prvi', 2, 4, 'Januar')\n",
    "# množica -> set        barve = {'bela', 'črna', 'rdeča'}"
   ]
  },
  {
   "source": [
    "# Seznam (tuple)"
   ],
   "cell_type": "markdown",
   "metadata": {}
  },
  {
   "cell_type": "code",
   "execution_count": 28,
   "metadata": {},
   "outputs": [
    {
     "output_type": "stream",
     "name": "stdout",
     "text": [
      "belo\n"
     ]
    }
   ],
   "source": [
    "# Seznam definiramo tako, da navedemo elemente ločene z vejico\n",
    "t1 = ('belo', 3, 'avto')\n",
    "print(t1[0])"
   ]
  },
  {
   "cell_type": "code",
   "execution_count": 29,
   "metadata": {},
   "outputs": [
    {
     "output_type": "error",
     "ename": "TypeError",
     "evalue": "'tuple' object does not support item assignment",
     "traceback": [
      "\u001b[0;31m---------------------------------------------------------------------------\u001b[0m",
      "\u001b[0;31mTypeError\u001b[0m                                 Traceback (most recent call last)",
      "\u001b[0;32m<ipython-input-29-067da883c98f>\u001b[0m in \u001b[0;36m<module>\u001b[0;34m\u001b[0m\n\u001b[0;32m----> 1\u001b[0;31m \u001b[0mt1\u001b[0m\u001b[0;34m[\u001b[0m\u001b[0;36m0\u001b[0m\u001b[0;34m]\u001b[0m \u001b[0;34m=\u001b[0m \u001b[0;34m'modro'\u001b[0m\u001b[0;34m\u001b[0m\u001b[0;34m\u001b[0m\u001b[0m\n\u001b[0m\u001b[1;32m      2\u001b[0m \u001b[0mprint\u001b[0m\u001b[0;34m(\u001b[0m\u001b[0mt1\u001b[0m\u001b[0;34m[\u001b[0m\u001b[0;36m0\u001b[0m\u001b[0;34m]\u001b[0m\u001b[0;34m)\u001b[0m\u001b[0;34m\u001b[0m\u001b[0;34m\u001b[0m\u001b[0m\n",
      "\u001b[0;31mTypeError\u001b[0m: 'tuple' object does not support item assignment"
     ]
    }
   ],
   "source": [
    "t1[0] = 'modro' # Seznama ni mogoče spreminjati, zato to javi napako\n",
    "print(t1[0])"
   ]
  },
  {
   "cell_type": "code",
   "execution_count": null,
   "metadata": {},
   "outputs": [],
   "source": []
  },
  {
   "source": [
    "## Množica"
   ],
   "cell_type": "markdown",
   "metadata": {}
  },
  {
   "cell_type": "code",
   "execution_count": 31,
   "metadata": {},
   "outputs": [
    {
     "output_type": "stream",
     "name": "stdout",
     "text": [
      "{'prvi', 2, 3}\n"
     ]
    }
   ],
   "source": [
    "# V množici je vsak vnos lahko zapisan samo enkrat \n",
    "# Taka množica ni veljavna, ker se število 3 v njej nahaja dvakrat:\n",
    "m1 = {'prvi', 2, 3, 3}\n",
    "print(m1)"
   ]
  },
  {
   "cell_type": "code",
   "execution_count": 33,
   "metadata": {},
   "outputs": [
    {
     "output_type": "stream",
     "name": "stdout",
     "text": [
      "{1, 2, 3, 4, 5}\n"
     ]
    }
   ],
   "source": [
    "# vaja: Pretvori tabelo v množico\n",
    "tabela = [1,2,3,4,2,1,5]\n",
    "pepi = set(tabela)\n",
    "print(pepi)"
   ]
  },
  {
   "source": [
    "# Delo z datotekami\n"
   ],
   "cell_type": "markdown",
   "metadata": {}
  },
  {
   "cell_type": "code",
   "execution_count": 35,
   "metadata": {},
   "outputs": [],
   "source": [
    "# kako ustvarimo in odpremo datoteko\n",
    "moja_datoteka = open('test.txt', 'w+')\n",
    "# kako v datoteko kaj vpišemo:\n",
    "moja_datoteka.write('Kar neko besedilo s tremi pikicami...')\n",
    "# da se shrani kar smo vpisali moramo datoteko še zapreti:\n",
    "moja_datoteka.close()"
   ]
  },
  {
   "cell_type": "code",
   "execution_count": 36,
   "metadata": {},
   "outputs": [
    {
     "output_type": "stream",
     "name": "stdout",
     "text": [
      "Kar neko besedilo s tremi pikicami...\n"
     ]
    }
   ],
   "source": [
    "# preberemo vsebino datoteke test.txt in jo shranimo v spremenljivko vsebina\n",
    "datoteka = open('test.txt','r')\n",
    "vsebina = datoteka.read()\n",
    "print(vsebina)\n",
    "datoteka.close()\n"
   ]
  },
  {
   "cell_type": "code",
   "execution_count": 41,
   "metadata": {},
   "outputs": [],
   "source": [
    "# Ustvarimo csv datoteko\n",
    "import csv\n",
    "with open('test.csv', 'w', newline='') as f:\n",
    "    writer = csv.writer(f, delimiter=',')\n",
    "    writer.writerow([\"Ime\",\"Mesto\"])\n",
    "    writer.writerow([\"Pepi\",\"Trščaki\"])\n",
    "    writer.writerow(['Branko', 'Vrhavč'])"
   ]
  },
  {
   "cell_type": "code",
   "execution_count": 43,
   "metadata": {},
   "outputs": [
    {
     "output_type": "stream",
     "name": "stdout",
     "text": [
      "['Ime', 'Mesto']\n['Pepi', 'Trščaki']\n['Branko', 'Vrhavč']\n"
     ]
    }
   ],
   "source": [
    "# Kako preberemo iz csv datoteke\n",
    "with open('test.csv', mode='r') as f:\n",
    "    xyz = csv.reader(f, delimiter=',')\n",
    "    for vrstica in xyz:\n",
    "        print(vrstica)"
   ]
  },
  {
   "cell_type": "code",
   "execution_count": 45,
   "metadata": {},
   "outputs": [],
   "source": [
    "# Vaja: napiši program, ki uporabnika pozove k vnosu besedila in ga shrani v datoteko besedilo.txt\n",
    "besedilo = input(\"Vnesi besedilo\")\n",
    "# kako ustvarimo in odpremo datoteko\n",
    "moja_datoteka = open('test2.txt', 'w+')\n",
    "# kako v datoteko kaj vpišemo:\n",
    "moja_datoteka.write(besedilo)\n",
    "# da se shrani kar smo vpisali moramo datoteko še zapreti:\n",
    "moja_datoteka.close()"
   ]
  },
  {
   "cell_type": "code",
   "execution_count": null,
   "metadata": {},
   "outputs": [],
   "source": [
    "# Vaja: podana slovarja zapiši v csv datoteko. Ključe uporabi za imena stolpcev, vrednosti pa za podatke v stolpcih\n",
    "data = {'Ime':['Denis', 'Miha', 'Marko', 'Polona'], 'jezik':['c','Java', 'C++', 'Python']}"
   ]
  }
 ]
}