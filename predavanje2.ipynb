{
 "cells": [
  {
   "cell_type": "markdown",
   "metadata": {},
   "source": [
    "# Uporabnikov vnos in pogojni stavki"
   ]
  },
  {
   "cell_type": "code",
   "execution_count": 2,
   "metadata": {},
   "outputs": [
    {
     "output_type": "stream",
     "name": "stdout",
     "text": [
      "wdvw\n"
     ]
    }
   ],
   "source": [
    "x = input('Vnesi število')\n",
    "print(x)"
   ]
  },
  {
   "cell_type": "markdown",
   "metadata": {},
   "source": [
    "input vedno prebere niz znakov"
   ]
  },
  {
   "cell_type": "code",
   "execution_count": null,
   "metadata": {},
   "outputs": [],
   "source": [
    "x\n"
   ]
  },
  {
   "cell_type": "code",
   "execution_count": null,
   "metadata": {},
   "outputs": [],
   "source": [
    "type(x)"
   ]
  },
  {
   "cell_type": "markdown",
   "metadata": {},
   "source": [
    "Ker input() vedno prebere niz znakov, imamo lahko problem!"
   ]
  },
  {
   "cell_type": "code",
   "execution_count": 1,
   "metadata": {},
   "outputs": [
    {
     "output_type": "stream",
     "name": "stdout",
     "text": [
      "Vsota je: 11\n"
     ]
    }
   ],
   "source": [
    "x = input('vnesi prvo stevilo: ')\n",
    "y = input('vnesi drugo število: ')\n",
    "z = x + y\n",
    "print(\"Vsota je: \" + z)"
   ]
  },
  {
   "cell_type": "code",
   "execution_count": 4,
   "metadata": {},
   "outputs": [
    {
     "output_type": "stream",
     "name": "stdout",
     "text": [
      "Vsota je: 3\n"
     ]
    }
   ],
   "source": [
    "x = input('vnesi prvo stevilo: ')\n",
    "y = input('vnesi drugo število: ')\n",
    "z = int(x) + int(y)\n",
    "#print(\"Vsota je: \" + str(z))\n",
    "print(f'Vsota je: {z}')"
   ]
  },
  {
   "cell_type": "markdown",
   "metadata": {},
   "source": [
    "Kaj pa to:?"
   ]
  },
  {
   "cell_type": "code",
   "execution_count": null,
   "metadata": {},
   "outputs": [],
   "source": [
    "x = input('vnesi prvo stevilo z decimalno piko: ')\n",
    "y = input('vnesi drugo število z decimalno piko: ')\n",
    "z = float(x) + float(y)\n",
    "print(\"Vsota je: \" + str(z))"
   ]
  },
  {
   "cell_type": "code",
   "execution_count": 6,
   "metadata": {},
   "outputs": [
    {
     "output_type": "execute_result",
     "data": {
      "text/plain": [
       "bool"
      ]
     },
     "metadata": {},
     "execution_count": 6
    }
   ],
   "source": [
    "vrednost = True\n",
    "type(vrednost)"
   ]
  },
  {
   "cell_type": "code",
   "execution_count": 7,
   "metadata": {},
   "outputs": [
    {
     "output_type": "stream",
     "name": "stdout",
     "text": [
      "True\n"
     ]
    }
   ],
   "source": [
    "x = 1\n",
    "print(bool(x))"
   ]
  },
  {
   "cell_type": "code",
   "execution_count": 8,
   "metadata": {},
   "outputs": [
    {
     "output_type": "stream",
     "name": "stdout",
     "text": [
      "1\n"
     ]
    }
   ],
   "source": [
    "print(int(vrednost))"
   ]
  },
  {
   "cell_type": "code",
   "execution_count": 9,
   "metadata": {},
   "outputs": [
    {
     "output_type": "stream",
     "name": "stdout",
     "text": [
      "0\n"
     ]
    }
   ],
   "source": [
    "vrednost = False\n",
    "print(int(vrednost))"
   ]
  },
  {
   "cell_type": "markdown",
   "metadata": {},
   "source": [
    "## Detekcija napak"
   ]
  },
  {
   "cell_type": "code",
   "execution_count": 10,
   "metadata": {},
   "outputs": [
    {
     "output_type": "stream",
     "name": "stdout",
     "text": [
      "Nekaj je šlo narobe\nVerjetno ne smeš seštevati niza z celim številom\nProgram se je končal\n"
     ]
    }
   ],
   "source": [
    "x = input('vnesi prvo stevilo: ')\n",
    "y = input('vnesi drugo število: ')\n",
    "z = int(x) + int(y)\n",
    "try:\n",
    "    print(\"Vsota je: \" + z)\n",
    "    print(\"Bilo je vse v redu\")\n",
    "except:\n",
    "    print(\"Nekaj je šlo narobe\")\n",
    "    print(\"Verjetno ne smeš seštevati niza z celim številom\")\n",
    "print(\"Program se je končal\")"
   ]
  },
  {
   "cell_type": "markdown",
   "metadata": {},
   "source": [
    "# Stavevek if"
   ]
  },
  {
   "cell_type": "code",
   "execution_count": null,
   "metadata": {},
   "outputs": [],
   "source": [
    "# Malo drugače inicializirane spremenljivke:\n",
    "x,y=3,7\n",
    "#if pogoj:    ... če je pogoj izpolnjen (je enak True)\n",
    "if x < y:\n",
    "    print(f'{x} je manjši od {y}')  #... se izvede to kar takoj sledi if stavku"
   ]
  },
  {
   "cell_type": "markdown",
   "metadata": {},
   "source": [
    "Možni pogoji:\n",
    "== ...je enako\n",
    "!= ...ni enako\n",
    "> ...večji\n",
    "< ...manjši\n",
    ">= ... večji ali enako\n",
    "<= ... manjši ali enako"
   ]
  },
  {
   "cell_type": "code",
   "execution_count": 12,
   "metadata": {},
   "outputs": [
    {
     "output_type": "stream",
     "name": "stdout",
     "text": [
      "Konec programa\n"
     ]
    }
   ],
   "source": [
    "odgovor = input('Koliko je 5 + 7? ')\n",
    "if odgovor == '12':\n",
    "    print('Bravo, čestitamo!')\n",
    "print(\"Konec programa\")"
   ]
  },
  {
   "cell_type": "code",
   "execution_count": null,
   "metadata": {},
   "outputs": [],
   "source": [
    "# lahko bi naredili tudi tako:\n",
    "odgovor = int(input('Koliko je 5 + 7? '))\n",
    "if odgovor == 12:\n",
    "    print('Bravo, čestitamo!')"
   ]
  },
  {
   "cell_type": "markdown",
   "metadata": {},
   "source": [
    "Logični pogoji:\n",
    "and ... logični in,\n",
    "or ... logični ali,\n",
    "not ... negacija"
   ]
  },
  {
   "cell_type": "code",
   "execution_count": 4,
   "metadata": {},
   "outputs": [
    {
     "name": "stdout",
     "output_type": "stream",
     "text": [
      "vnesi prvo stevilo: 15\n",
      "vnesi drugo število: 3\n",
      "15 je večji od 3 in večji od 10\n"
     ]
    }
   ],
   "source": [
    "# Primer\n",
    "x = int(input('vnesi prvo stevilo: '))\n",
    "y = int(input('vnesi drugo število: '))\n",
    "if x>y and x>10:\n",
    "    print(f\"{x} je večji od {y} in večji od 10\")"
   ]
  },
  {
   "cell_type": "code",
   "execution_count": null,
   "metadata": {},
   "outputs": [],
   "source": [
    "# Primer za logični operator 'or'\n",
    "x = int(input('vnesi prvo stevilo: '))\n",
    "y = int(input('vnesi drugo število: '))\n",
    "if x>y or x>10:\n",
    "    print(f\"{x} je večji od {y} in večji od 10\")"
   ]
  },
  {
   "cell_type": "code",
   "execution_count": 5,
   "metadata": {},
   "outputs": [
    {
     "name": "stdout",
     "output_type": "stream",
     "text": [
      "test je false\n"
     ]
    }
   ],
   "source": [
    "# Primer za not\n",
    "test = False\n",
    "if not test:\n",
    "    print('test je false')"
   ]
  },
  {
   "cell_type": "markdown",
   "metadata": {},
   "source": [
    "if ... else ..."
   ]
  },
  {
   "cell_type": "code",
   "execution_count": 3,
   "metadata": {},
   "outputs": [
    {
     "output_type": "stream",
     "name": "stdout",
     "text": [
      "a je manjši ali enak b\n"
     ]
    }
   ],
   "source": [
    "a = 9\n",
    "b = 9\n",
    "if a>b:\n",
    "    print(\"a je večji od b\")\n",
    "else:\n",
    "    print(\"a je manjši ali enak b\")"
   ]
  },
  {
   "cell_type": "code",
   "execution_count": 8,
   "metadata": {},
   "outputs": [
    {
     "output_type": "stream",
     "name": "stdout",
     "text": [
      "y je večji od z\n"
     ]
    }
   ],
   "source": [
    "# elif \n",
    "x = 5\n",
    "y = 8\n",
    "z = 7\n",
    "if x>y:\n",
    "    print(\"x je večji od y\")\n",
    "elif x>z:\n",
    "    print(\"x je večji od z\")\n",
    "elif y>z:\n",
    "    print(\"y je večji od z\")\n",
    "else:\n",
    "    print(\"nobeden od testov ni držal\")\n"
   ]
  },
  {
   "source": [
    "# Vaje"
   ],
   "cell_type": "markdown",
   "metadata": {}
  },
  {
   "cell_type": "code",
   "execution_count": null,
   "metadata": {},
   "outputs": [],
   "source": [
    "# Napiši program ki pozove k vnosu in sešteje dve števili"
   ]
  }
 ],
 "metadata": {
  "kernelspec": {
   "display_name": "Python 3",
   "language": "python",
   "name": "python3"
  },
  "language_info": {
   "codemirror_mode": {
    "name": "ipython",
    "version": 3
   },
   "file_extension": ".py",
   "mimetype": "text/x-python",
   "name": "python",
   "nbconvert_exporter": "python",
   "pygments_lexer": "ipython3",
   "version": "3.8.3-final"
  }
 },
 "nbformat": 4,
 "nbformat_minor": 4
}