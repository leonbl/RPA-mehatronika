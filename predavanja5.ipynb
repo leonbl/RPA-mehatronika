{
 "metadata": {
  "language_info": {
   "codemirror_mode": {
    "name": "ipython",
    "version": 3
   },
   "file_extension": ".py",
   "mimetype": "text/x-python",
   "name": "python",
   "nbconvert_exporter": "python",
   "pygments_lexer": "ipython3",
   "version": "3.8.3-final"
  },
  "orig_nbformat": 2,
  "kernelspec": {
   "name": "python3",
   "display_name": "Python 3",
   "language": "python"
  }
 },
 "nbformat": 4,
 "nbformat_minor": 2,
 "cells": [
  {
   "source": [
    "# Funkcije\n"
   ],
   "cell_type": "markdown",
   "metadata": {}
  },
  {
   "cell_type": "code",
   "execution_count": 3,
   "metadata": {},
   "outputs": [
    {
     "output_type": "stream",
     "name": "stdout",
     "text": [
      "Pepi\n28\nPepi\n28\nPepi\n28\n"
     ]
    }
   ],
   "source": [
    "def izpisiPodatke():\n",
    "    print(\"Pepi\")\n",
    "    print(\"28\")\n",
    "\n",
    "izpisiPodatke()\n",
    "izpisiPodatke()\n",
    "izpisiPodatke()"
   ]
  },
  {
   "cell_type": "code",
   "execution_count": 5,
   "metadata": {},
   "outputs": [
    {
     "output_type": "stream",
     "name": "stdout",
     "text": [
      "11\n"
     ]
    }
   ],
   "source": [
    "# defininicija funkcije brez \"argumentov\" ali \"parametrov\"\n",
    "def izracun():\n",
    "    x,y=5,6\n",
    "    print(x+y)\n",
    "izracun()"
   ]
  },
  {
   "cell_type": "code",
   "execution_count": 10,
   "metadata": {},
   "outputs": [
    {
     "output_type": "stream",
     "name": "stdout",
     "text": [
      "60\n4\n-96.97\nprvidrugi\n"
     ]
    }
   ],
   "source": [
    "# definicija funkcije z argumenti\n",
    "def izracun(x, y):\n",
    "    print(x+y)\n",
    "\n",
    "izracun(10, 50)\n",
    "izracun(-3,7)\n",
    "izracun(3.13, -100.1)\n",
    "izracun(\"prvi\", \"drugi\")"
   ]
  },
  {
   "cell_type": "code",
   "execution_count": null,
   "metadata": {},
   "outputs": [],
   "source": [
    "def izpisImena(ime):\n",
    "    print(\"Tvoje ime je {}\".format(ime))\n",
    "\n",
    "i"
   ]
  }
 ]
}