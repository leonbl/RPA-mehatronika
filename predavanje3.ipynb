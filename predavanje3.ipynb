{
 "metadata": {
  "language_info": {
   "codemirror_mode": {
    "name": "ipython",
    "version": 3
   },
   "file_extension": ".py",
   "mimetype": "text/x-python",
   "name": "python",
   "nbconvert_exporter": "python",
   "pygments_lexer": "ipython3",
   "version": "3.8.3-final"
  },
  "orig_nbformat": 2,
  "kernelspec": {
   "name": "python3",
   "display_name": "Python 3",
   "language": "python"
  }
 },
 "nbformat": 4,
 "nbformat_minor": 2,
 "cells": [
  {
   "source": [
    "# Tabele in zanke\n"
   ],
   "cell_type": "markdown",
   "metadata": {}
  },
  {
   "source": [
    "Kako definiramo tabelo?\n"
   ],
   "cell_type": "markdown",
   "metadata": {}
  },
  {
   "cell_type": "code",
   "execution_count": 7,
   "metadata": {},
   "outputs": [],
   "source": [
    "stevila = [2,5,67,8]"
   ]
  },
  {
   "source": [
    "stevila je ime tabele, v oglatem oklepaju pa so naštete vrednosti, ki jih tabela hrani."
   ],
   "cell_type": "markdown",
   "metadata": {}
  },
  {
   "cell_type": "code",
   "execution_count": 8,
   "metadata": {},
   "outputs": [
    {
     "output_type": "stream",
     "name": "stdout",
     "text": [
      "[2, 5, 67, 8]\n"
     ]
    }
   ],
   "source": [
    "print(stevila)"
   ]
  },
  {
   "cell_type": "code",
   "execution_count": 9,
   "metadata": {},
   "outputs": [
    {
     "output_type": "stream",
     "name": "stdout",
     "text": [
      "P\n"
     ]
    }
   ],
   "source": [
    "# Dostop do elementov v nizu znakov:\n",
    "ime = \"Pepi\"\n",
    "# spodnji print izpiše prvi element v nizu znakov\n",
    "print(ime[0])"
   ]
  },
  {
   "cell_type": "code",
   "execution_count": 11,
   "metadata": {},
   "outputs": [
    {
     "output_type": "stream",
     "name": "stdout",
     "text": [
      "rdeča\n"
     ]
    }
   ],
   "source": [
    "# Dostop do elementov v tabeli:\n",
    "barve = ['rdeča','bela','modra']\n",
    "# Prvi element tabele z imenom barve izpišemo tako:\n",
    "print(barve[0])"
   ]
  },
  {
   "cell_type": "code",
   "execution_count": 12,
   "metadata": {},
   "outputs": [
    {
     "output_type": "stream",
     "name": "stdout",
     "text": [
      "67\n"
     ]
    }
   ],
   "source": [
    "# Podobno s števili:\n",
    "stevila = [2,5,67,8]\n",
    "print(stevila[2])"
   ]
  },
  {
   "cell_type": "code",
   "execution_count": 14,
   "metadata": {},
   "outputs": [
    {
     "output_type": "stream",
     "name": "stdout",
     "text": [
      "True\n"
     ]
    }
   ],
   "source": [
    "# Tabele lahko hranijo različne tipe podatkov (int, float, bool, string)\n",
    "tabela = [1, 'danes', 6.7, True, 123431414134]\n",
    "print(tabela[-2])"
   ]
  },
  {
   "cell_type": "code",
   "execution_count": 15,
   "metadata": {},
   "outputs": [
    {
     "output_type": "stream",
     "name": "stdout",
     "text": [
      "['danes', 6.7]\n"
     ]
    }
   ],
   "source": [
    "# Tako kot smo razsekali niz, lahko razsečemo tudi tabelo:\n",
    "print(tabela[1:3]) # Izpiši vse elemente tabele od prvega do tretjega indeksa"
   ]
  },
  {
   "cell_type": "code",
   "execution_count": 16,
   "metadata": {},
   "outputs": [
    {
     "output_type": "stream",
     "name": "stdout",
     "text": [
      "2\n"
     ]
    }
   ],
   "source": [
    "# Tabela lahko vsebuje tudi drugo tabelo:\n",
    "spisek = [1,2,[100,200],5,6]\n",
    "# Do elementov dostopamo tako kot običajno\n",
    "print(spisek[1])\n"
   ]
  },
  {
   "cell_type": "code",
   "execution_count": 17,
   "metadata": {},
   "outputs": [
    {
     "output_type": "stream",
     "name": "stdout",
     "text": [
      "[100, 200]\n"
     ]
    }
   ],
   "source": [
    "# Kaj se zgodi, če hočemo izpisati element z indeksom 2?\n",
    "print(spisek[2])"
   ]
  },
  {
   "cell_type": "code",
   "execution_count": 21,
   "metadata": {},
   "outputs": [
    {
     "output_type": "stream",
     "name": "stdout",
     "text": [
      "100\n"
     ]
    }
   ],
   "source": [
    "# Stvari se malo spremenijo, če hočemo dostopati do elementov notranje tabele.\n",
    "# Kako pridemo do prvega elementa notranje tabele?\n",
    "print(spisek[2][0])"
   ]
  },
  {
   "cell_type": "code",
   "execution_count": null,
   "metadata": {},
   "outputs": [],
   "source": []
  }
 ]
}