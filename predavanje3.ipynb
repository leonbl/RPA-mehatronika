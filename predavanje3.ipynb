{
 "metadata": {
  "language_info": {
   "codemirror_mode": {
    "name": "ipython",
    "version": 3
   },
   "file_extension": ".py",
   "mimetype": "text/x-python",
   "name": "python",
   "nbconvert_exporter": "python",
   "pygments_lexer": "ipython3",
   "version": "3.8.3-final"
  },
  "orig_nbformat": 2,
  "kernelspec": {
   "name": "python3",
   "display_name": "Python 3",
   "language": "python"
  }
 },
 "nbformat": 4,
 "nbformat_minor": 2,
 "cells": [
  {
   "source": [
    "# Tabele in zanke\n"
   ],
   "cell_type": "markdown",
   "metadata": {}
  },
  {
   "source": [
    "Kako definiramo tabelo?\n"
   ],
   "cell_type": "markdown",
   "metadata": {}
  },
  {
   "cell_type": "code",
   "execution_count": 7,
   "metadata": {},
   "outputs": [],
   "source": [
    "stevila = [2,5,67,8]"
   ]
  },
  {
   "source": [
    "stevila je ime tabele, v oglatem oklepaju pa so naštete vrednosti, ki jih tabela hrani."
   ],
   "cell_type": "markdown",
   "metadata": {}
  },
  {
   "cell_type": "code",
   "execution_count": 8,
   "metadata": {},
   "outputs": [
    {
     "output_type": "stream",
     "name": "stdout",
     "text": [
      "[2, 5, 67, 8]\n"
     ]
    }
   ],
   "source": [
    "print(stevila)"
   ]
  },
  {
   "cell_type": "code",
   "execution_count": 9,
   "metadata": {},
   "outputs": [
    {
     "output_type": "stream",
     "name": "stdout",
     "text": [
      "P\n"
     ]
    }
   ],
   "source": [
    "# Dostop do elementov v nizu znakov:\n",
    "ime = \"Pepi\"\n",
    "# spodnji print izpiše prvi element v nizu znakov\n",
    "print(ime[0])"
   ]
  },
  {
   "cell_type": "code",
   "execution_count": 11,
   "metadata": {},
   "outputs": [
    {
     "output_type": "stream",
     "name": "stdout",
     "text": [
      "rdeča\n"
     ]
    }
   ],
   "source": [
    "# Dostop do elementov v tabeli:\n",
    "barve = ['rdeča','bela','modra']\n",
    "# Prvi element tabele z imenom barve izpišemo tako:\n",
    "print(barve[0])"
   ]
  },
  {
   "cell_type": "code",
   "execution_count": 12,
   "metadata": {},
   "outputs": [
    {
     "output_type": "stream",
     "name": "stdout",
     "text": [
      "67\n"
     ]
    }
   ],
   "source": [
    "# Podobno s števili:\n",
    "stevila = [2,5,67,8]\n",
    "print(stevila[2])"
   ]
  },
  {
   "cell_type": "code",
   "execution_count": 14,
   "metadata": {},
   "outputs": [
    {
     "output_type": "stream",
     "name": "stdout",
     "text": [
      "True\n"
     ]
    }
   ],
   "source": [
    "# Tabele lahko hranijo različne tipe podatkov (int, float, bool, string)\n",
    "tabela = [1, 'danes', 6.7, True, 123431414134]\n",
    "print(tabela[-2])"
   ]
  },
  {
   "cell_type": "code",
   "execution_count": 15,
   "metadata": {},
   "outputs": [
    {
     "output_type": "stream",
     "name": "stdout",
     "text": [
      "['danes', 6.7]\n"
     ]
    }
   ],
   "source": [
    "# Tako kot smo razsekali niz, lahko razsečemo tudi tabelo:\n",
    "print(tabela[1:3]) # Izpiši vse elemente tabele od prvega do tretjega indeksa"
   ]
  },
  {
   "cell_type": "code",
   "execution_count": 16,
   "metadata": {},
   "outputs": [
    {
     "output_type": "stream",
     "name": "stdout",
     "text": [
      "2\n"
     ]
    }
   ],
   "source": [
    "# Tabela lahko vsebuje tudi drugo tabelo:\n",
    "spisek = [1,2,[100,200],5,6]\n",
    "# Do elementov dostopamo tako kot običajno\n",
    "print(spisek[1])\n"
   ]
  },
  {
   "cell_type": "code",
   "execution_count": 17,
   "metadata": {},
   "outputs": [
    {
     "output_type": "stream",
     "name": "stdout",
     "text": [
      "[100, 200]\n"
     ]
    }
   ],
   "source": [
    "# Kaj se zgodi, če hočemo izpisati element z indeksom 2?\n",
    "print(spisek[2])"
   ]
  },
  {
   "cell_type": "code",
   "execution_count": 21,
   "metadata": {},
   "outputs": [
    {
     "output_type": "stream",
     "name": "stdout",
     "text": [
      "100\n"
     ]
    }
   ],
   "source": [
    "# Stvari se malo spremenijo, če hočemo dostopati do elementov notranje tabele.\n",
    "# Kako pridemo do prvega elementa notranje tabele?\n",
    "print(spisek[2][0])"
   ]
  },
  {
   "source": [
    "# Razlika med rabo tabel in nizov:\n",
    "# - nizov se ne da spreminjati\n",
    "# - vsebino tabel lahko spreminjamo"
   ],
   "cell_type": "code",
   "metadata": {},
   "execution_count": null,
   "outputs": []
  },
  {
   "cell_type": "code",
   "execution_count": 23,
   "metadata": {},
   "outputs": [
    {
     "output_type": "error",
     "ename": "TypeError",
     "evalue": "'str' object does not support item assignment",
     "traceback": [
      "\u001b[0;31m---------------------------------------------------------------------------\u001b[0m",
      "\u001b[0;31mTypeError\u001b[0m                                 Traceback (most recent call last)",
      "\u001b[0;32m<ipython-input-23-272c5d01fc4c>\u001b[0m in \u001b[0;36m<module>\u001b[0;34m\u001b[0m\n\u001b[1;32m      1\u001b[0m \u001b[0;31m# Napaka:\u001b[0m\u001b[0;34m\u001b[0m\u001b[0;34m\u001b[0m\u001b[0;34m\u001b[0m\u001b[0m\n\u001b[1;32m      2\u001b[0m \u001b[0mniz\u001b[0m \u001b[0;34m=\u001b[0m \u001b[0;34m\"padavine\"\u001b[0m\u001b[0;34m\u001b[0m\u001b[0;34m\u001b[0m\u001b[0m\n\u001b[0;32m----> 3\u001b[0;31m \u001b[0mniz\u001b[0m\u001b[0;34m[\u001b[0m\u001b[0;36m1\u001b[0m\u001b[0;34m]\u001b[0m \u001b[0;34m=\u001b[0m \u001b[0;34m\"e\"\u001b[0m\u001b[0;34m\u001b[0m\u001b[0;34m\u001b[0m\u001b[0m\n\u001b[0m",
      "\u001b[0;31mTypeError\u001b[0m: 'str' object does not support item assignment"
     ]
    }
   ],
   "source": [
    "# Napaka:\n",
    "niz = \"padavine\"\n",
    "niz[1] = \"e\""
   ]
  },
  {
   "cell_type": "code",
   "execution_count": 24,
   "metadata": {},
   "outputs": [
    {
     "output_type": "stream",
     "name": "stdout",
     "text": [
      "[1, 5, 4, 6]\n"
     ]
    }
   ],
   "source": [
    "# Pri tabelah:\n",
    "st = [1,2,4,6]\n",
    "st[1] = 5\n",
    "print(st)"
   ]
  },
  {
   "cell_type": "code",
   "execution_count": 25,
   "metadata": {},
   "outputs": [
    {
     "output_type": "stream",
     "name": "stdout",
     "text": [
      "[3, 4]\n"
     ]
    }
   ],
   "source": [
    "# Zanimivo:\n",
    "a = [3,4]\n",
    "b = a\n",
    "print(b)"
   ]
  },
  {
   "cell_type": "code",
   "execution_count": 26,
   "metadata": {},
   "outputs": [
    {
     "output_type": "stream",
     "name": "stdout",
     "text": [
      "[7, 4]\n"
     ]
    }
   ],
   "source": [
    "# Kaj torej zanimivo??\n",
    "a[0]=7\n",
    "print(a)"
   ]
  },
  {
   "cell_type": "code",
   "execution_count": 28,
   "metadata": {},
   "outputs": [
    {
     "output_type": "stream",
     "name": "stdout",
     "text": [
      "[7, 4]\n"
     ]
    }
   ],
   "source": [
    "#?????????\n",
    "print(b)"
   ]
  },
  {
   "cell_type": "code",
   "execution_count": 29,
   "metadata": {},
   "outputs": [
    {
     "output_type": "stream",
     "name": "stdout",
     "text": [
      "Lokacija a: 140713000307712, lokacija b: 140713000307712\n"
     ]
    }
   ],
   "source": [
    "# Izpišimo naslova kjer se nahajata tabeli a in b v pomnilniku\n",
    "print(\"Lokacija a: {}, lokacija b: {}\".format(id(a), id(b)))"
   ]
  },
  {
   "cell_type": "code",
   "execution_count": 30,
   "metadata": {},
   "outputs": [
    {
     "output_type": "stream",
     "name": "stdout",
     "text": [
      "[7, 4]\n"
     ]
    }
   ],
   "source": [
    "# Kako pa lahko naredimo kopijo tabele?\n",
    "c = a[:]\n",
    "print(c)"
   ]
  },
  {
   "cell_type": "code",
   "execution_count": 31,
   "metadata": {},
   "outputs": [
    {
     "output_type": "stream",
     "name": "stdout",
     "text": [
      "Lokacija a: 140713000307712, lokacija c: 140713006329600\n"
     ]
    }
   ],
   "source": [
    "print(\"Lokacija a: {}, lokacija c: {}\".format(id(a), id(c)))"
   ]
  },
  {
   "cell_type": "code",
   "execution_count": 32,
   "metadata": {},
   "outputs": [
    {
     "output_type": "stream",
     "name": "stdout",
     "text": [
      "[7, 1000]\n"
     ]
    }
   ],
   "source": [
    "# Spremenim vrednost v a:\n",
    "a[1]=1000\n",
    "print(a)"
   ]
  },
  {
   "cell_type": "code",
   "execution_count": 33,
   "metadata": {},
   "outputs": [
    {
     "output_type": "stream",
     "name": "stdout",
     "text": [
      "[7, 4]\n"
     ]
    }
   ],
   "source": [
    "print(c) # c je ostal nespremenjen"
   ]
  },
  {
   "cell_type": "code",
   "execution_count": 34,
   "metadata": {},
   "outputs": [
    {
     "output_type": "stream",
     "name": "stdout",
     "text": [
      "P\nM\nM\nP\n"
     ]
    }
   ],
   "source": [
    "# Izpiši začetnice imen v spodnji tabeli\n",
    "imena = ['Pepi','Micka','Miha','Pepca']\n",
    "print(imena[0][0])\n",
    "print(imena[1][0])\n",
    "print(imena[2][0])\n",
    "print(imena[3][0])"
   ]
  },
  {
   "source": [
    "## Zanka 'for'\n"
   ],
   "cell_type": "markdown",
   "metadata": {}
  },
  {
   "source": [
    "## for 'začasna_spremenljivka' in 'funkcija':\n"
   ],
   "cell_type": "markdown",
   "metadata": {}
  },
  {
   "cell_type": "code",
   "execution_count": 40,
   "metadata": {},
   "outputs": [
    {
     "output_type": "stream",
     "name": "stdout",
     "text": [
      "0\n1\n2\n3\n4\n5\n6\n7\n8\n9\n"
     ]
    }
   ],
   "source": [
    "# imam spremenljivko n, za katero želim, da se sakokrat poveča za ena in gre od 0 do 10\n",
    "for n in range(10): \n",
    "    print(n)\n"
   ]
  },
  {
   "cell_type": "code",
   "execution_count": 44,
   "metadata": {},
   "outputs": [
    {
     "output_type": "stream",
     "name": "stdout",
     "text": [
      "3\n10\n17\n24\n31\n38\n45\n52\n59\n66\n73\n80\n87\n94\n"
     ]
    }
   ],
   "source": [
    "# Kaj pa to?\n",
    "for n in range(3,100,7): \n",
    "    print(n)"
   ]
  },
  {
   "cell_type": "code",
   "execution_count": 3,
   "metadata": {},
   "outputs": [
    {
     "output_type": "stream",
     "name": "stdout",
     "text": [
      "e\nk\ns\n"
     ]
    }
   ],
   "source": [
    "ime = \"Aleksander\"\n",
    "for x in ime:\n",
    "    print(x)"
   ]
  },
  {
   "cell_type": "code",
   "execution_count": 52,
   "metadata": {},
   "outputs": [
    {
     "output_type": "stream",
     "name": "stdout",
     "text": [
      "A\nL\nE\nK\nS\n"
     ]
    }
   ],
   "source": [
    "# Primer uporabe\n",
    "for x in ime[:5]:\n",
    "    print(x.upper())\n"
   ]
  },
  {
   "source": [
    "### Continue"
   ],
   "cell_type": "markdown",
   "metadata": {}
  },
  {
   "cell_type": "code",
   "execution_count": 54,
   "metadata": {},
   "outputs": [
    {
     "output_type": "stream",
     "name": "stdout",
     "text": [
      "0\n1\n2\n3\n4\n6\n7\n8\n9\n10\n11\n12\n13\n14\n15\n16\n17\n18\n19\n"
     ]
    }
   ],
   "source": [
    "# Continue prekine nadaljnje izvajanje v zanki za trenutno vrednost spremenljivke\n",
    "for n in range(20): \n",
    "    if n==5:\n",
    "        continue\n",
    "    print(n)"
   ]
  },
  {
   "source": [
    "### Break"
   ],
   "cell_type": "markdown",
   "metadata": {}
  },
  {
   "cell_type": "code",
   "execution_count": 56,
   "metadata": {},
   "outputs": [
    {
     "output_type": "stream",
     "name": "stdout",
     "text": [
      "0\n1\n2\n3\n4\nkonec\n"
     ]
    }
   ],
   "source": [
    "# Nepreklicno prekine izvajanje zanke\n",
    "for n in range(20): \n",
    "    if n==5:\n",
    "        break\n",
    "    print(n)\n",
    "print(\"konec\")"
   ]
  },
  {
   "cell_type": "code",
   "execution_count": 57,
   "metadata": {},
   "outputs": [
    {
     "output_type": "stream",
     "name": "stdout",
     "text": [
      "0\n3\n6\n9\n12\n15\n18\n21\n24\n27\n30\n33\n36\n39\n42\n45\n48\n51\n54\n57\n60\n63\n66\n69\n72\n75\n78\n81\n84\n87\n90\n93\n96\n99\n"
     ]
    }
   ],
   "source": [
    "# Izpiši vsa števila od ena do 100, ki so deljiva s 3\n",
    "for n in range(101):\n",
    "    if n%3 == 0:\n",
    "        print(n)"
   ]
  },
  {
   "cell_type": "code",
   "execution_count": 58,
   "metadata": {},
   "outputs": [
    {
     "output_type": "stream",
     "name": "stdout",
     "text": [
      "a\ne\na\na\ne\n"
     ]
    }
   ],
   "source": [
    "# S pomočjo zanke for izpiši vse samoglasnike iz podanega niza:\n",
    "niz = \"danes pada dež\"\n",
    "for n in niz:\n",
    "    if n=='a' or n=='e' or n=='i' or n=='o' or n=='u':\n",
    "        print(n)\n",
    "\n"
   ]
  },
  {
   "cell_type": "code",
   "execution_count": 60,
   "metadata": {},
   "outputs": [
    {
     "output_type": "stream",
     "name": "stdout",
     "text": [
      "a\ne\na\na\ne\n"
     ]
    }
   ],
   "source": [
    "# rešeno še malo drugače, ker je Nena tako hotela...\n",
    "niz = \"danes pada dež\"\n",
    "samoglasniki = \"aeiou\"\n",
    "for n in niz:\n",
    "    for x in samoglasniki:\n",
    "        if x == n:\n",
    "            print(x)\n",
    "n = d\n",
    "x = a\n",
    "x = e\n",
    "x = i\n",
    "x = o\n",
    "x = u\n",
    "n = a\n",
    "x = a\n",
    "..."
   ]
  },
  {
   "cell_type": "code",
   "execution_count": 1,
   "metadata": {},
   "outputs": [
    {
     "output_type": "stream",
     "name": "stdout",
     "text": [
      "a\ne\na\na\ne\n"
     ]
    }
   ],
   "source": [
    "# Pa še ena krajša rešitev:\n",
    "niz = \"danes pada dež\"\n",
    "for n in niz:\n",
    "    if n in ['a', 'e', 'i', 'o', 'u']:\n",
    "        print(n)"
   ]
  }
 ]
}