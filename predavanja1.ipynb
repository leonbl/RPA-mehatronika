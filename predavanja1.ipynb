{
 "metadata": {
  "language_info": {
   "codemirror_mode": {
    "name": "ipython",
    "version": 3
   },
   "file_extension": ".py",
   "mimetype": "text/x-python",
   "name": "python",
   "nbconvert_exporter": "python",
   "pygments_lexer": "ipython3",
   "version": "3.8.3-final"
  },
  "orig_nbformat": 2,
  "kernelspec": {
   "name": "python3",
   "display_name": "Python 3",
   "language": "python"
  }
 },
 "nbformat": 4,
 "nbformat_minor": 2,
 "cells": [
  {
   "source": [
    "# Števila v Pythonu\n",
    "V Pythonu sta osnovni obliki zapisa števil: cela števila (integer) in števila z decimalno piko (float).  \n",
    "\n",
    "Primeri celih števil: 1, 5, -3, 200021 \n",
    "\n",
    "Primeri števil z decimalno piko: 1.2, 3.14, 2e2, -4.214564e2 \n",
    "<br>\n",
    "<br>\n",
    "\n",
    "## Osnovna aritmetika"
   ],
   "cell_type": "markdown",
   "metadata": {}
  },
  {
   "cell_type": "code",
   "execution_count": 2,
   "metadata": {},
   "outputs": [
    {
     "output_type": "execute_result",
     "data": {
      "text/plain": [
       "3"
      ]
     },
     "metadata": {},
     "execution_count": 2
    }
   ],
   "source": [
    "# Seštevanje\n",
    "1+2"
   ]
  },
  {
   "cell_type": "code",
   "execution_count": 3,
   "metadata": {},
   "outputs": [
    {
     "output_type": "execute_result",
     "data": {
      "text/plain": [
       "-1"
      ]
     },
     "metadata": {},
     "execution_count": 3
    }
   ],
   "source": [
    "# Odštevanje\n",
    "1-2"
   ]
  },
  {
   "cell_type": "code",
   "execution_count": 5,
   "metadata": {},
   "outputs": [
    {
     "output_type": "execute_result",
     "data": {
      "text/plain": [
       "15"
      ]
     },
     "metadata": {},
     "execution_count": 5
    }
   ],
   "source": [
    "# Množenje\n",
    "3*5"
   ]
  },
  {
   "cell_type": "code",
   "execution_count": 6,
   "metadata": {},
   "outputs": [
    {
     "output_type": "execute_result",
     "data": {
      "text/plain": [
       "2.5"
      ]
     },
     "metadata": {},
     "execution_count": 6
    }
   ],
   "source": [
    "# Deljenje\n",
    "5/2"
   ]
  },
  {
   "cell_type": "code",
   "execution_count": 8,
   "metadata": {},
   "outputs": [
    {
     "output_type": "execute_result",
     "data": {
      "text/plain": [
       "1"
      ]
     },
     "metadata": {},
     "execution_count": 8
    }
   ],
   "source": [
    "# Celo-številsko deljenje\n",
    "5//3"
   ]
  },
  {
   "cell_type": "code",
   "execution_count": 10,
   "metadata": {},
   "outputs": [
    {
     "output_type": "execute_result",
     "data": {
      "text/plain": [
       "2"
      ]
     },
     "metadata": {},
     "execution_count": 10
    }
   ],
   "source": [
    "# Ostanek pri deljeju\n",
    "5%3"
   ]
  },
  {
   "cell_type": "code",
   "execution_count": 11,
   "metadata": {},
   "outputs": [
    {
     "output_type": "execute_result",
     "data": {
      "text/plain": [
       "16"
      ]
     },
     "metadata": {},
     "execution_count": 11
    }
   ],
   "source": [
    "# Potenciranje\n",
    "2**4"
   ]
  },
  {
   "cell_type": "code",
   "execution_count": 13,
   "metadata": {},
   "outputs": [
    {
     "output_type": "execute_result",
     "data": {
      "text/plain": [
       "3.0"
      ]
     },
     "metadata": {},
     "execution_count": 13
    }
   ],
   "source": [
    "# S potenciranjem lahko izvedemo tudi korenjenje\n",
    "9**0.5"
   ]
  },
  {
   "cell_type": "code",
   "execution_count": 14,
   "metadata": {},
   "outputs": [
    {
     "output_type": "execute_result",
     "data": {
      "text/plain": [
       "4"
      ]
     },
     "metadata": {},
     "execution_count": 14
    }
   ],
   "source": [
    "# Pravila vrstnega reda\n",
    "2 + 3 * 4 - 10"
   ]
  },
  {
   "cell_type": "code",
   "execution_count": 15,
   "metadata": {},
   "outputs": [
    {
     "output_type": "execute_result",
     "data": {
      "text/plain": [
       "-30"
      ]
     },
     "metadata": {},
     "execution_count": 15
    }
   ],
   "source": [
    "# Z oklepaji lahko dodelimo prioriteto \n",
    "(2 + 3) * (4 - 10)"
   ]
  },
  {
   "source": [
    "## Dodeljevanje vrednosti\n",
    "Spremenljivkam dodelimo vrednost s pomočjo enačaja. Poglejmo si nekaj primerov:"
   ],
   "cell_type": "markdown",
   "metadata": {}
  },
  {
   "cell_type": "code",
   "execution_count": 32,
   "metadata": {},
   "outputs": [],
   "source": [
    "# Ustvarimo spremenljivko z imenom x (v Pythonu je vsaka spremenljivka objekt) in vanjo shranimo vrenost 4:\n",
    "x = 4"
   ]
  },
  {
   "source": [
    "Če sedaj x uporabimo, ga Python uporablja kot število 4"
   ],
   "cell_type": "markdown",
   "metadata": {}
  },
  {
   "cell_type": "code",
   "execution_count": 33,
   "metadata": {},
   "outputs": [],
   "source": [
    "\n",
    "x = x + 2"
   ]
  },
  {
   "source": [
    "# Koliko je sedaj x?\n",
    "x"
   ],
   "cell_type": "code",
   "metadata": {},
   "execution_count": 36,
   "outputs": [
    {
     "output_type": "execute_result",
     "data": {
      "text/plain": [
       "6"
      ]
     },
     "metadata": {},
     "execution_count": 36
    }
   ]
  },
  {
   "cell_type": "code",
   "execution_count": 37,
   "metadata": {},
   "outputs": [],
   "source": [
    "# zadnji operacijo x = x + 2 lahko zapišemo krajše\n",
    "x += 2"
   ]
  },
  {
   "cell_type": "code",
   "execution_count": 38,
   "metadata": {},
   "outputs": [
    {
     "output_type": "execute_result",
     "data": {
      "text/plain": [
       "8"
      ]
     },
     "metadata": {},
     "execution_count": 38
    }
   ],
   "source": [
    "# Kaj je sedaj shranjeno v x?\n",
    "x"
   ]
  },
  {
   "cell_type": "code",
   "execution_count": 39,
   "metadata": {},
   "outputs": [],
   "source": [
    "# Podobno lahko krajše zapišemo množenje x = x * 5\n",
    "x *= 5"
   ]
  },
  {
   "cell_type": "code",
   "execution_count": 40,
   "metadata": {},
   "outputs": [],
   "source": [
    "# Ali deljenje x = x / 2\n",
    "x /= 2"
   ]
  },
  {
   "source": [
    "Imena spremenljivk morajo v Pythonu ustrezati naslednjim navodilom:\n",
    "- Imena se ne smejo začeti s številko\n",
    "- V imenu ne sme biti presledka (uporabimo lahko _ )\n",
    "- V imenu ne smemo uporabiti nobenega od naslednjih znakov :'\",<>/?|\\()!@#$%^&*~-+\n",
    "- Dobra praksa v Pythonu pravi, da imena spremenljivk pišemo z malo začetnico\n",
    "- Za imena spremenljivk ne uporabljamo besed, ki imajo v Pythonu poseben pomen: list, str, int, ..."
   ],
   "cell_type": "markdown",
   "metadata": {}
  },
  {
   "source": [
    "Priporočljivo je, da za poimenovanje uporabimo smiselna imena"
   ],
   "cell_type": "markdown",
   "metadata": {}
  },
  {
   "cell_type": "code",
   "execution_count": 23,
   "metadata": {},
   "outputs": [],
   "source": [
    "starost = 18\n",
    "hisna_stevilka = 177"
   ]
  },
  {
   "cell_type": "code",
   "execution_count": 24,
   "metadata": {},
   "outputs": [
    {
     "output_type": "execute_result",
     "data": {
      "text/plain": [
       "177"
      ]
     },
     "metadata": {},
     "execution_count": 24
    }
   ],
   "source": [
    "# Pokaži hišno številko\n",
    "hisna_stevilka"
   ]
  },
  {
   "source": [
    "## Dinamično dodeljevanje tipa\n",
    "Python uporablja dinamično dodeljevanje tipa (dynamic typing). To pomeni, da lahko neka spremenljivka najprej hrani vrednost enega tipa (recimo, celo število) in nato drugega (recimo, število z decimalno piko)."
   ],
   "cell_type": "markdown",
   "metadata": {}
  },
  {
   "cell_type": "code",
   "execution_count": 25,
   "metadata": {},
   "outputs": [],
   "source": [
    "stevilo = 2"
   ]
  },
  {
   "cell_type": "code",
   "execution_count": 26,
   "metadata": {},
   "outputs": [
    {
     "output_type": "execute_result",
     "data": {
      "text/plain": [
       "2"
      ]
     },
     "metadata": {},
     "execution_count": 26
    }
   ],
   "source": [
    "stevilo"
   ]
  },
  {
   "cell_type": "code",
   "execution_count": 27,
   "metadata": {},
   "outputs": [],
   "source": [
    "stevilo = 4.123"
   ]
  },
  {
   "cell_type": "code",
   "execution_count": 28,
   "metadata": {},
   "outputs": [
    {
     "output_type": "execute_result",
     "data": {
      "text/plain": [
       "4.123"
      ]
     },
     "metadata": {},
     "execution_count": 28
    }
   ],
   "source": [
    "stevilo"
   ]
  },
  {
   "source": [
    "Podatkovni tip, ki ga vsebuje spremenljivka, lahko določimo s klicem metode type()"
   ],
   "cell_type": "markdown",
   "metadata": {}
  },
  {
   "cell_type": "code",
   "execution_count": 29,
   "metadata": {},
   "outputs": [
    {
     "output_type": "execute_result",
     "data": {
      "text/plain": [
       "float"
      ]
     },
     "metadata": {},
     "execution_count": 29
    }
   ],
   "source": [
    "type(stevilo)"
   ]
  },
  {
   "cell_type": "code",
   "execution_count": null,
   "metadata": {},
   "outputs": [],
   "source": [
    "# "
   ]
  },
  {
   "source": [
    "# Nizi znakov\n",
    "Niz znakov (String) je v Pythonu oblika podatkovnega tipa, ki hrani zaporedje znakov.\n",
    "<br>\n",
    "## Ustvarjanje niza\n",
    "Niz znakov v Pythonu ustvarimo tako, da niz znakov postavimo med enojne ali dvojne narekovaje."
   ],
   "cell_type": "markdown",
   "metadata": {}
  },
  {
   "cell_type": "code",
   "execution_count": 41,
   "metadata": {},
   "outputs": [
    {
     "output_type": "execute_result",
     "data": {
      "text/plain": [
       "'kar neki niz znakov'"
      ]
     },
     "metadata": {},
     "execution_count": 41
    }
   ],
   "source": [
    "'kar neki niz znakov'"
   ]
  },
  {
   "cell_type": "code",
   "execution_count": 42,
   "metadata": {},
   "outputs": [
    {
     "output_type": "execute_result",
     "data": {
      "text/plain": [
       "'še en niz s številkami 1 2 3'"
      ]
     },
     "metadata": {},
     "execution_count": 42
    }
   ],
   "source": [
    "\"še en niz s številkami 1 2 3\""
   ]
  },
  {
   "cell_type": "code",
   "execution_count": 43,
   "metadata": {},
   "outputs": [
    {
     "output_type": "error",
     "ename": "SyntaxError",
     "evalue": "invalid syntax (<ipython-input-43-8fe814b7e2ae>, line 2)",
     "traceback": [
      "\u001b[0;36m  File \u001b[0;32m\"<ipython-input-43-8fe814b7e2ae>\"\u001b[0;36m, line \u001b[0;32m2\u001b[0m\n\u001b[0;31m    'nakaj'znakov'\u001b[0m\n\u001b[0m           ^\u001b[0m\n\u001b[0;31mSyntaxError\u001b[0m\u001b[0;31m:\u001b[0m invalid syntax\n"
     ]
    }
   ],
   "source": [
    "# Pozor! Navednic ne smemo uporabiti kot enega izmet znakov v nizu znakov:\n",
    "'nakaj'znakov'"
   ]
  },
  {
   "cell_type": "code",
   "execution_count": 44,
   "metadata": {},
   "outputs": [
    {
     "output_type": "execute_result",
     "data": {
      "text/plain": [
       "\"nekaj'znakov\""
      ]
     },
     "metadata": {},
     "execution_count": 44
    }
   ],
   "source": [
    "# Lahko pa jih uporabimo, če so drugačne od tistih, ki obkrožajo niz:\n",
    "\"nekaj'znakov\""
   ]
  },
  {
   "cell_type": "code",
   "execution_count": 45,
   "metadata": {},
   "outputs": [
    {
     "output_type": "execute_result",
     "data": {
      "text/plain": [
       "'nekaj\"znakov'"
      ]
     },
     "metadata": {},
     "execution_count": 45
    }
   ],
   "source": [
    "# ali\n",
    "'nekaj\"znakov'"
   ]
  },
  {
   "source": [
    "Jupiter notebok enostavno izpiše niz znakov, ki smo ga vnesli v celico. Pravilni naćin izpisa znakov v Python programih pa je z uporabo metode print()."
   ],
   "cell_type": "markdown",
   "metadata": {}
  },
  {
   "cell_type": "code",
   "execution_count": 46,
   "metadata": {},
   "outputs": [
    {
     "output_type": "stream",
     "name": "stdout",
     "text": [
      "To je niz znakov\n"
     ]
    }
   ],
   "source": [
    "print('To je niz znakov')"
   ]
  },
  {
   "cell_type": "code",
   "execution_count": 47,
   "metadata": {},
   "outputs": [
    {
     "output_type": "stream",
     "name": "stdout",
     "text": [
      "Izpis\nv dveh vrsticah\n"
     ]
    }
   ],
   "source": [
    "# Če v nizu uporabimo poševnico in črko n (\\n), bo print() to smatral kot ukaz za novo vrstico:\n",
    "print('Izpis\\nv dveh vrsticah')"
   ]
  },
  {
   "cell_type": "code",
   "execution_count": 48,
   "metadata": {},
   "outputs": [
    {
     "output_type": "stream",
     "name": "stdout",
     "text": [
      "prvi\tdrugi\ttretji\tčetrti\n"
     ]
    }
   ],
   "source": [
    "# \\t pa kot tabulator:\n",
    "print('prvi\\tdrugi\\ttretji\\tčetrti')"
   ]
  },
  {
   "source": [
    "## Osnovno delo z nizi"
   ],
   "cell_type": "markdown",
   "metadata": {}
  },
  {
   "cell_type": "code",
   "execution_count": 49,
   "metadata": {},
   "outputs": [
    {
     "output_type": "execute_result",
     "data": {
      "text/plain": [
       "12"
      ]
     },
     "metadata": {},
     "execution_count": 49
    }
   ],
   "source": [
    "# Dolžino niza lahko določimo z uporabo metode len()\n",
    "len('Kar neki niz')"
   ]
  },
  {
   "cell_type": "code",
   "execution_count": 58,
   "metadata": {},
   "outputs": [
    {
     "output_type": "stream",
     "name": "stdout",
     "text": [
      "Micka\n"
     ]
    }
   ],
   "source": [
    "# Tako kot števila, lahko tudi niz shranimo v spremenljivko\n",
    "ime = 'Micka'\n",
    "print(ime)"
   ]
  },
  {
   "cell_type": "code",
   "execution_count": 59,
   "metadata": {},
   "outputs": [
    {
     "output_type": "stream",
     "name": "stdout",
     "text": [
      "M\n"
     ]
    }
   ],
   "source": [
    "# V nizu lahko s pomočjo indeksov dostopamo do posameznih znakov.\n",
    "# Indeks prvega elementa v nizu je 0, naslednjega 1 in tako naprej.\n",
    "#      0 1 2 3\n",
    "#      P e p i\n",
    "# Indeks lahko uporabio tako, da ga damo med oglate oklepaje.\n",
    "# Znak z indeksom nič v spremnljivki ime je tako:\n",
    "print(ime[0])"
   ]
  },
  {
   "cell_type": "code",
   "execution_count": 60,
   "metadata": {},
   "outputs": [
    {
     "output_type": "stream",
     "name": "stdout",
     "text": [
      "i\n"
     ]
    }
   ],
   "source": [
    "# Naslednji znak je seveda:\n",
    "print(ime[1])"
   ]
  },
  {
   "cell_type": "code",
   "execution_count": 53,
   "metadata": {},
   "outputs": [
    {
     "output_type": "stream",
     "name": "stdout",
     "text": [
      "i\n"
     ]
    }
   ],
   "source": [
    "# Indeksi so lahko tudi negativni. Zadnji znak v nizu ima indeks -1:\n",
    "print(ime[-1])"
   ]
  },
  {
   "cell_type": "code",
   "execution_count": 61,
   "metadata": {},
   "outputs": [
    {
     "output_type": "stream",
     "name": "stdout",
     "text": [
      "cka\n"
     ]
    }
   ],
   "source": [
    "# Nize lahko tudi sesekljamo. Uporabiti moramo tak načn: [start:konec:korak]. Poglejmo si primere uporabe.\n",
    "# Uporabi vse od drugega znaka do konca niza:\n",
    "print(ime[2:])"
   ]
  },
  {
   "cell_type": "code",
   "execution_count": 62,
   "metadata": {},
   "outputs": [
    {
     "output_type": "stream",
     "name": "stdout",
     "text": [
      "Mi\n"
     ]
    }
   ],
   "source": [
    "# Uporabi vse do tretjega indeksa\n",
    "print(ime[:2])"
   ]
  },
  {
   "cell_type": "code",
   "execution_count": 65,
   "metadata": {},
   "outputs": [
    {
     "output_type": "stream",
     "name": "stdout",
     "text": [
      "Mick\n"
     ]
    }
   ],
   "source": [
    "# Uporabi vse do zadnjega indeksa:\n",
    "print(ime[:-1])"
   ]
  },
  {
   "cell_type": "code",
   "execution_count": 63,
   "metadata": {},
   "outputs": [
    {
     "output_type": "stream",
     "name": "stdout",
     "text": [
      "c\n"
     ]
    }
   ],
   "source": [
    "# Uporabi od vključno drugega indeksa do tretjega:\n",
    "print(ime[2:3])"
   ]
  },
  {
   "cell_type": "code",
   "execution_count": 64,
   "metadata": {},
   "outputs": [
    {
     "output_type": "stream",
     "name": "stdout",
     "text": [
      "Mca\n"
     ]
    }
   ],
   "source": [
    "# Uporabi vse, a preskoči vsakega drugega:\n",
    "print(ime[::2])"
   ]
  },
  {
   "cell_type": "code",
   "execution_count": 66,
   "metadata": {},
   "outputs": [
    {
     "output_type": "stream",
     "name": "stdout",
     "text": [
      "acM\n"
     ]
    }
   ],
   "source": [
    "# Uporabi vse, a preskoči vsakega drugega v obratnem vrstnem redu:\n",
    "print(ime[::-2])"
   ]
  },
  {
   "cell_type": "code",
   "execution_count": 67,
   "metadata": {},
   "outputs": [
    {
     "output_type": "stream",
     "name": "stdout",
     "text": [
      "akciM\n"
     ]
    }
   ],
   "source": [
    "# Uporabi vse v obratnem vrstnem redu:\n",
    "print(ime[::-1])"
   ]
  },
  {
   "source": [
    "## Lastnosti nizov\n",
    "Ko enkrat niz shranimo v spremenljivko, zankov v nizu ne moremo več spreminjati.\n"
   ],
   "cell_type": "markdown",
   "metadata": {}
  },
  {
   "cell_type": "code",
   "execution_count": 68,
   "metadata": {},
   "outputs": [
    {
     "output_type": "stream",
     "name": "stdout",
     "text": [
      "rdeča\n"
     ]
    }
   ],
   "source": [
    "barva = 'rdeča'\n",
    "print(barva)"
   ]
  },
  {
   "cell_type": "code",
   "execution_count": 69,
   "metadata": {},
   "outputs": [
    {
     "output_type": "error",
     "ename": "TypeError",
     "evalue": "'str' object does not support item assignment",
     "traceback": [
      "\u001b[0;31m---------------------------------------------------------------------------\u001b[0m",
      "\u001b[0;31mTypeError\u001b[0m                                 Traceback (most recent call last)",
      "\u001b[0;32m<ipython-input-69-304fa5de82ae>\u001b[0m in \u001b[0;36m<module>\u001b[0;34m\u001b[0m\n\u001b[1;32m      1\u001b[0m \u001b[0;31m# Namest a bi radi imeli e:\u001b[0m\u001b[0;34m\u001b[0m\u001b[0;34m\u001b[0m\u001b[0;34m\u001b[0m\u001b[0m\n\u001b[0;32m----> 2\u001b[0;31m \u001b[0mbarva\u001b[0m\u001b[0;34m[\u001b[0m\u001b[0;36m3\u001b[0m\u001b[0;34m]\u001b[0m \u001b[0;34m=\u001b[0m \u001b[0;34m'e'\u001b[0m\u001b[0;34m\u001b[0m\u001b[0;34m\u001b[0m\u001b[0m\n\u001b[0m\u001b[1;32m      3\u001b[0m \u001b[0;31m# kar nam seveda javi napako\u001b[0m\u001b[0;34m\u001b[0m\u001b[0;34m\u001b[0m\u001b[0;34m\u001b[0m\u001b[0m\n",
      "\u001b[0;31mTypeError\u001b[0m: 'str' object does not support item assignment"
     ]
    }
   ],
   "source": [
    "# Namest a bi radi imeli e:\n",
    "barva[3] = 'e'\n",
    "# kar nam seveda javi napako"
   ]
  },
  {
   "cell_type": "code",
   "execution_count": 70,
   "metadata": {},
   "outputs": [
    {
     "output_type": "stream",
     "name": "stdout",
     "text": [
      "Micka rdeča\n"
     ]
    }
   ],
   "source": [
    "# Lahko pa nize združujemo: \n",
    "print(ime+' '+barva)"
   ]
  },
  {
   "cell_type": "code",
   "execution_count": 71,
   "metadata": {},
   "outputs": [
    {
     "output_type": "stream",
     "name": "stdout",
     "text": [
      "rdečardečardečardečardeča\n"
     ]
    }
   ],
   "source": [
    "# Ali celo multipliciramo:\n",
    "print(barva * 5)"
   ]
  },
  {
   "source": [
    "## Osnovne metode za delo z nizi\n",
    "Objekti v Pythonu imajo običajno definirane različne metode. To so nekakšne funkcije znotraj objektov s svojimi ukazi, ki se izvedejo, ko metodo uporabimo. Metode kličemo tako, da najprej povemo ime objekta, nato damo piko in sledi ime metode. Oblika je torej: objekt.metoda(parametri). Parametri so dodatni argumenti, ki jih pošljemo v metodo. Z objeti in metodami se bomo ukvarjali kasneje, ko si bomo pogledali objektno programiranje v Pythonu. Poglejmo si sedaj le nekaj metod, ki pripadajo objektu String (niz znakov)."
   ],
   "cell_type": "markdown",
   "metadata": {}
  },
  {
   "cell_type": "code",
   "execution_count": 72,
   "metadata": {},
   "outputs": [
    {
     "output_type": "execute_result",
     "data": {
      "text/plain": [
       "'RDEČA'"
      ]
     },
     "metadata": {},
     "execution_count": 72
    }
   ],
   "source": [
    "# Nizu lahko spremenimo male črke v velike\n",
    "barva.upper()"
   ]
  },
  {
   "cell_type": "code",
   "execution_count": 73,
   "metadata": {},
   "outputs": [
    {
     "output_type": "execute_result",
     "data": {
      "text/plain": [
       "'rdeča'"
      ]
     },
     "metadata": {},
     "execution_count": 73
    }
   ],
   "source": [
    "# in nazaj v male :)\n",
    "barva.lower()"
   ]
  },
  {
   "cell_type": "code",
   "execution_count": 74,
   "metadata": {},
   "outputs": [
    {
     "output_type": "stream",
     "name": "stdout",
     "text": [
      "nek niz sestavljen iz besed\n"
     ]
    }
   ],
   "source": [
    "# Niz lahko razdelimo na več nizov glede na presledek (privzeto):\n",
    "niz = 'nek niz sestavljen iz besed'\n",
    "print(niz)"
   ]
  },
  {
   "cell_type": "code",
   "execution_count": 75,
   "metadata": {},
   "outputs": [
    {
     "output_type": "execute_result",
     "data": {
      "text/plain": [
       "['nek', 'niz', 'sestavljen', 'iz', 'besed']"
      ]
     },
     "metadata": {},
     "execution_count": 75
    }
   ],
   "source": [
    "niz.split()"
   ]
  },
  {
   "cell_type": "code",
   "execution_count": 76,
   "metadata": {},
   "outputs": [
    {
     "output_type": "execute_result",
     "data": {
      "text/plain": [
       "['n', 'k niz s', 'stavlj', 'n iz b', 's', 'd']"
      ]
     },
     "metadata": {},
     "execution_count": 76
    }
   ],
   "source": [
    "# lahko pa za deljenje niza določimo tudi nek znak:\n",
    "niz.split('e')"
   ]
  },
  {
   "source": [
    "## Formatiranje nizov"
   ],
   "cell_type": "markdown",
   "metadata": {}
  },
  {
   "cell_type": "code",
   "execution_count": 77,
   "metadata": {},
   "outputs": [
    {
     "output_type": "stream",
     "name": "stdout",
     "text": [
      "Pepi je star 22 let\n"
     ]
    }
   ],
   "source": [
    "# Včasih hočemo v niz vključiti vrednosti spremenljiv, ki jih imamo v proramu\n",
    "# To lahko naredimo z metodo format, ki v niz na mesta z znaki {} vstavi svoje argumente:\n",
    "ime = 'Pepi'\n",
    "starost = 22\n",
    "print('{} je star {} let'.format(ime, starost))"
   ]
  },
  {
   "cell_type": "code",
   "execution_count": 78,
   "metadata": {},
   "outputs": [
    {
     "output_type": "stream",
     "name": "stdout",
     "text": [
      "Pepi je star 22 let\n"
     ]
    }
   ],
   "source": [
    "# Od verzije Pythona 3.6 je to še krajše:\n",
    "print(f'{ime} je star {starost} let')"
   ]
  }
 ]
}